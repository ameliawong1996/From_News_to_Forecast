{
 "cells": [
  {
   "cell_type": "code",
   "execution_count": 1,
   "metadata": {
    "ExecuteTime": {
     "end_time": "2024-10-04T06:19:04.528001Z",
     "start_time": "2024-10-04T06:18:49.747154Z"
    }
   },
   "outputs": [],
   "source": [
    "import json\n",
    "import numpy as np\n",
    "from sklearn.metrics import mean_squared_error, mean_absolute_error, r2_score, explained_variance_score\n",
    "import re\n",
    "\n",
    "# Function to extract only the numeric part of the string\n",
    "def extract_numeric(value):\n",
    "    match = re.match(r\"([-+]?\\d*\\.?\\d+)\", value)\n",
    "    return match.group(0) if match else None"
   ]
  },
  {
   "cell_type": "markdown",
   "metadata": {},
   "source": [
    "## Replace the file name below."
   ]
  },
  {
   "cell_type": "code",
   "execution_count": null,
   "metadata": {},
   "outputs": [],
   "source": [
    "# The predicted JSON file\n",
    "predictions_file = ''\n",
    "# The Ground Truth JSON file\n",
    "actuals_file = ''\n",
    "\n",
    "# Some settings\n",
    "seq_length = 48  # The length of the sequences"
   ]
  },
  {
   "cell_type": "markdown",
   "metadata": {},
   "source": [
    "## Run the following to calculate the metrics"
   ]
  },
  {
   "cell_type": "code",
   "execution_count": null,
   "metadata": {},
   "outputs": [],
   "source": [
    "with open(predictions_file, 'r', encoding='utf-8') as f:\n",
    "    predictions_data = json.load(f)\n",
    "\n",
    "with open(actuals_file, 'r', encoding='utf-8') as f:\n",
    "    actuals_data = json.load(f)\n",
    "\n",
    "# Assuming the structure of both JSON files is the same and the 'output' field is present in both\n",
    "predicted_values = []\n",
    "actual_values = []\n",
    "\n",
    "i = 0\n",
    "index1 = []\n",
    "for pred, act in zip(predictions_data, actuals_data):\n",
    "    i = i + 1\n",
    "    list_0=[float(extract_numeric(value)) for value in pred['output'].split(',') if extract_numeric(value)]\n",
    "    if len(list_0) < seq_length:\n",
    "        print(f\"iteration {i}: \",len(list_0))\n",
    "        list_0 = list_0 + [list_0[-1]] * (seq_length - len(list_0))\n",
    "        index1.append(i)\n",
    "        predicted_values.extend(list_0)\n",
    "        actual_values.extend([float(extract_numeric(value)) for value in act['output'].split(',') if extract_numeric(value)][:48])\n",
    "        continue\n",
    "    predicted_values.extend([float(extract_numeric(value)) for value in pred['output'].split(',') if extract_numeric(value)][:48])\n",
    "    actual_values.extend([float(extract_numeric(value)) for value in act['output'].split(',') if extract_numeric(value)][:48])"
   ]
  },
  {
   "cell_type": "code",
   "execution_count": null,
   "metadata": {},
   "outputs": [],
   "source": [
    "actual_values=actual_values\n",
    "predicted_values=predicted_values\n",
    "mse = mean_squared_error(actual_values, predicted_values)\n",
    "rmse = np.sqrt(mse)\n",
    "mae = mean_absolute_error(actual_values, predicted_values)\n",
    "mape = np.mean(np.abs((np.array(actual_values) - np.array(predicted_values)) / np.array(actual_values))) * 100\n",
    "r2 = r2_score(actual_values, predicted_values)\n",
    "explained_variance = explained_variance_score(actual_values, predicted_values)\n",
    "\n",
    "print(f'MSE: {mse}')\n",
    "print(f'RMSE: {rmse}')\n",
    "print(f'MAE: {mae}')\n",
    "print(f'MAPE: {mape}%')\n",
    "print(f'R^2: {r2}')\n",
    "print(f'Explained Variance: {explained_variance}')\n",
    "\n",
    "hits = np.sum(np.sign(np.array(actual_values[1:]) - np.array(actual_values[:-1])) == np.sign(np.array(predicted_values[1:]) - np.array(predicted_values[:-1])))\n",
    "hit_rate = hits / (len(actual_values) - 1)\n",
    "print(f'Hit Rate: {hit_rate}')"
   ]
  },
  {
   "cell_type": "markdown",
   "metadata": {},
   "source": [
    "## Plot the time series"
   ]
  },
  {
   "cell_type": "code",
   "execution_count": null,
   "metadata": {},
   "outputs": [],
   "source": [
    "import matplotlib.pyplot as plt\n",
    "import json\n",
    "from sklearn.metrics import mean_squared_error\n",
    "\n",
    "plt.figure(figsize=(20, 7))\n",
    "plt.plot(predicted_values[0 * seq_length: 10 * seq_length], 'r-', label='Predicted Values')\n",
    "plt.plot(actual_values[0 * seq_length: 10 * seq_length], 'b-', label='Actual Values')\n",
    "\n",
    "plt.title('Comparison of Predicted and Actual Values')\n",
    "plt.xlabel('Time Index')\n",
    "plt.ylabel('Values')\n",
    "plt.legend()\n",
    "plt.show()"
   ]
  }
 ],
 "metadata": {
  "kernelspec": {
   "display_name": "Python 3",
   "language": "python",
   "name": "python3"
  },
  "language_info": {
   "codemirror_mode": {
    "name": "ipython",
    "version": 3
   },
   "file_extension": ".py",
   "mimetype": "text/x-python",
   "name": "python",
   "nbconvert_exporter": "python",
   "pygments_lexer": "ipython3",
   "version": "3.8.5"
  },
  "toc": {
   "base_numbering": 1,
   "nav_menu": {},
   "number_sections": true,
   "sideBar": true,
   "skip_h1_title": false,
   "title_cell": "Table of Contents",
   "title_sidebar": "Contents",
   "toc_cell": false,
   "toc_position": {},
   "toc_section_display": true,
   "toc_window_display": false
  },
  "varInspector": {
   "cols": {
    "lenName": 16,
    "lenType": 16,
    "lenVar": 40
   },
   "kernels_config": {
    "python": {
     "delete_cmd_postfix": "",
     "delete_cmd_prefix": "del ",
     "library": "var_list.py",
     "varRefreshCmd": "print(var_dic_list())"
    },
    "r": {
     "delete_cmd_postfix": ") ",
     "delete_cmd_prefix": "rm(",
     "library": "var_list.r",
     "varRefreshCmd": "cat(var_dic_list()) "
    }
   },
   "types_to_exclude": [
    "module",
    "function",
    "builtin_function_or_method",
    "instance",
    "_Feature"
   ],
   "window_display": false
  }
 },
 "nbformat": 4,
 "nbformat_minor": 4
}
